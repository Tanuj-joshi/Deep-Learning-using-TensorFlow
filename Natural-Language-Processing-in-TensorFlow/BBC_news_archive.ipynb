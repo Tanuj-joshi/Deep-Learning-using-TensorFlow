{
 "cells": [
  {
   "cell_type": "markdown",
   "metadata": {},
   "source": [
    "##### Title Licensed under the Apache License, Version 2.0 (the \"License\");\n",
    "\n",
    "For this exercise you’ll get the BBC text archive. Your job will be to tokenize the dataset, removing common stopwords. A great source of these stop words can be found [here](https://github.com/Yoast/YoastSEO.js/blob/develop/src/config/stopwords.js).\n",
    "This BBC news reports dataset contains articles that are classified into a number of different categories. \n",
    "See if you can design a neural network that can be trained on this dataset to accurately determine \n",
    "what words determine what category. Create the vecs.tsv and meta.tsv files and load them into the embedding projector."
   ]
  },
  {
   "cell_type": "code",
   "execution_count": 3,
   "metadata": {
    "id": "gnwiOnGyW5JK"
   },
   "outputs": [
    {
     "name": "stderr",
     "output_type": "stream",
     "text": [
      "--2020-11-22 15:03:50--  https://storage.googleapis.com/laurencemoroney-blog.appspot.com/bbc-text.csv\n",
      "Resolving storage.googleapis.com (storage.googleapis.com)... 2a00:1450:4001:809::2010, 2a00:1450:4001:802::2010, 2a00:1450:4001:81d::2010, ...\n",
      "Connecting to storage.googleapis.com (storage.googleapis.com)|2a00:1450:4001:809::2010|:443... connected.\n",
      "HTTP request sent, awaiting response... 200 OK\n",
      "Length: 5057493 (4.8M) [application/octet-stream]\n",
      "Saving to: '/Users/tanuj/Natural-Language-Processing-in-TensorFlow/bbc_dataset/bbc-text.csv'\n",
      "\n",
      "     0K .......... .......... .......... .......... ..........  1% 1.12M 4s\n",
      "    50K .......... .......... .......... .......... ..........  2% 4.03M 3s\n",
      "   100K .......... .......... .......... .......... ..........  3% 4.15M 2s\n",
      "   150K .......... .......... .......... .......... ..........  4% 5.77M 2s\n",
      "   200K .......... .......... .......... .......... ..........  5% 5.49M 2s\n",
      "   250K .......... .......... .......... .......... ..........  6% 3.26M 2s\n",
      "   300K .......... .......... .......... .......... ..........  7% 4.06M 1s\n",
      "   350K .......... .......... .......... .......... ..........  8% 5.58M 1s\n",
      "   400K .......... .......... .......... .......... ..........  9% 5.86M 1s\n",
      "   450K .......... .......... .......... .......... .......... 10% 5.78M 1s\n",
      "   500K .......... .......... .......... .......... .......... 11% 5.69M 1s\n",
      "   550K .......... .......... .......... .......... .......... 12% 6.33M 1s\n",
      "   600K .......... .......... .......... .......... .......... 13% 5.99M 1s\n",
      "   650K .......... .......... .......... .......... .......... 14% 5.95M 1s\n",
      "   700K .......... .......... .......... .......... .......... 15% 5.70M 1s\n",
      "   750K .......... .......... .......... .......... .......... 16% 5.94M 1s\n",
      "   800K .......... .......... .......... .......... .......... 17% 5.69M 1s\n",
      "   850K .......... .......... .......... .......... .......... 18% 5.83M 1s\n",
      "   900K .......... .......... .......... .......... .......... 19% 6.14M 1s\n",
      "   950K .......... .......... .......... .......... .......... 20% 5.93M 1s\n",
      "  1000K .......... .......... .......... .......... .......... 21% 10.3M 1s\n",
      "  1050K .......... .......... .......... .......... .......... 22% 44.6M 1s\n",
      "  1100K .......... .......... .......... .......... .......... 23% 45.3M 1s\n",
      "  1150K .......... .......... .......... .......... .......... 24% 44.5M 1s\n",
      "  1200K .......... .......... .......... .......... .......... 25% 37.6M 1s\n",
      "  1250K .......... .......... .......... .......... .......... 26% 46.4M 1s\n",
      "  1300K .......... .......... .......... .......... .......... 27% 46.3M 1s\n",
      "  1350K .......... .......... .......... .......... .......... 28% 46.3M 1s\n",
      "  1400K .......... .......... .......... .......... .......... 29% 38.3M 1s\n",
      "  1450K .......... .......... .......... .......... .......... 30% 46.6M 1s\n",
      "  1500K .......... .......... .......... .......... .......... 31% 46.1M 1s\n",
      "  1550K .......... .......... .......... .......... .......... 32% 46.2M 0s\n",
      "  1600K .......... .......... .......... .......... .......... 33% 34.6M 0s\n",
      "  1650K .......... .......... .......... .......... .......... 34% 45.4M 0s\n",
      "  1700K .......... .......... .......... .......... .......... 35% 46.9M 0s\n",
      "  1750K .......... .......... .......... .......... .......... 36% 48.3M 0s\n",
      "  1800K .......... .......... .......... .......... .......... 37% 37.6M 0s\n",
      "  1850K .......... .......... .......... .......... .......... 38% 46.7M 0s\n",
      "  1900K .......... .......... .......... .......... .......... 39% 43.3M 0s\n",
      "  1950K .......... .......... .......... .......... .......... 40% 40.6M 0s\n",
      "  2000K .......... .......... .......... .......... .......... 41% 37.6M 0s\n",
      "  2050K .......... .......... .......... .......... .......... 42% 44.6M 0s\n",
      "  2100K .......... .......... .......... .......... .......... 43% 45.6M 0s\n",
      "  2150K .......... .......... .......... .......... .......... 44% 45.9M 0s\n",
      "  2200K .......... .......... .......... .......... .......... 45% 31.0M 0s\n",
      "  2250K .......... .......... .......... .......... .......... 46% 39.2M 0s\n",
      "  2300K .......... .......... .......... .......... .......... 47% 45.2M 0s\n",
      "  2350K .......... .......... .......... .......... .......... 48% 43.0M 0s\n",
      "  2400K .......... .......... .......... .......... .......... 49% 29.9M 0s\n",
      "  2450K .......... .......... .......... .......... .......... 50% 47.8M 0s\n",
      "  2500K .......... .......... .......... .......... .......... 51% 48.2M 0s\n",
      "  2550K .......... .......... .......... .......... .......... 52% 41.6M 0s\n",
      "  2600K .......... .......... .......... .......... .......... 53% 35.0M 0s\n",
      "  2650K .......... .......... .......... .......... .......... 54% 44.9M 0s\n",
      "  2700K .......... .......... .......... .......... .......... 55% 43.5M 0s\n",
      "  2750K .......... .......... .......... .......... .......... 56% 43.1M 0s\n",
      "  2800K .......... .......... .......... .......... .......... 57% 39.3M 0s\n",
      "  2850K .......... .......... .......... .......... .......... 58% 47.9M 0s\n",
      "  2900K .......... .......... .......... .......... .......... 59% 47.9M 0s\n",
      "  2950K .......... .......... .......... .......... .......... 60% 45.1M 0s\n",
      "  3000K .......... .......... .......... .......... .......... 61% 37.6M 0s\n",
      "  3050K .......... .......... .......... .......... .......... 62% 41.5M 0s\n",
      "  3100K .......... .......... .......... .......... .......... 63% 38.2M 0s\n",
      "  3150K .......... .......... .......... .......... .......... 64% 45.9M 0s\n",
      "  3200K .......... .......... .......... .......... .......... 65% 39.8M 0s\n",
      "  3250K .......... .......... .......... .......... .......... 66% 46.0M 0s\n",
      "  3300K .......... .......... .......... .......... .......... 67% 47.2M 0s\n",
      "  3350K .......... .......... .......... .......... .......... 68% 46.9M 0s\n",
      "  3400K .......... .......... .......... .......... .......... 69% 39.8M 0s\n",
      "  3450K .......... .......... .......... .......... .......... 70% 44.4M 0s\n",
      "  3500K .......... .......... .......... .......... .......... 71% 47.0M 0s\n",
      "  3550K .......... .......... .......... .......... .......... 72% 47.8M 0s\n",
      "  3600K .......... .......... .......... .......... .......... 73% 33.5M 0s\n",
      "  3650K .......... .......... .......... .......... .......... 74% 45.4M 0s\n",
      "  3700K .......... .......... .......... .......... .......... 75% 45.8M 0s\n",
      "  3750K .......... .......... .......... .......... .......... 76% 35.2M 0s\n",
      "  3800K .......... .......... .......... .......... .......... 77% 40.9M 0s\n",
      "  3850K .......... .......... .......... .......... .......... 78% 45.7M 0s\n",
      "  3900K .......... .......... .......... .......... .......... 79% 44.4M 0s\n",
      "  3950K .......... .......... .......... .......... .......... 80% 45.9M 0s\n",
      "  4000K .......... .......... .......... .......... .......... 82% 41.1M 0s\n",
      "  4050K .......... .......... .......... .......... .......... 83% 48.5M 0s\n",
      "  4100K .......... .......... .......... .......... .......... 84% 47.9M 0s\n",
      "  4150K .......... .......... .......... .......... .......... 85% 47.6M 0s\n",
      "  4200K .......... .......... .......... .......... .......... 86% 41.8M 0s\n",
      "  4250K .......... .......... .......... .......... .......... 87% 48.0M 0s\n",
      "  4300K .......... .......... .......... .......... .......... 88% 48.5M 0s\n",
      "  4350K .......... .......... .......... .......... .......... 89% 48.5M 0s\n",
      "  4400K .......... .......... .......... .......... .......... 90% 39.8M 0s\n",
      "  4450K .......... .......... .......... .......... .......... 91% 44.6M 0s\n",
      "  4500K .......... .......... .......... .......... .......... 92% 44.6M 0s\n",
      "  4550K .......... .......... .......... .......... .......... 93% 49.6M 0s\n",
      "  4600K .......... .......... .......... .......... .......... 94% 41.5M 0s\n",
      "  4650K .......... .......... .......... .......... .......... 95% 38.3M 0s\n",
      "  4700K .......... .......... .......... .......... .......... 96% 47.3M 0s\n",
      "  4750K .......... .......... .......... .......... .......... 97% 44.9M 0s\n",
      "  4800K .......... .......... .......... .......... .......... 98% 40.4M 0s\n",
      "  4850K .......... .......... .......... .......... .......... 99% 47.2M 0s\n",
      "  4900K .......... .......... .......... ........             100% 47.8M=0.3s\n",
      "\n",
      "2020-11-22 15:03:51 (15.4 MB/s) - '/Users/tanuj/Natural-Language-Processing-in-TensorFlow/bbc_dataset/bbc-text.csv' saved [5057493/5057493]\n",
      "\n"
     ]
    }
   ],
   "source": [
    "import csv\n",
    "import tensorflow as tf\n",
    "import numpy as np\n",
    "from tensorflow.keras.preprocessing.text import Tokenizer\n",
    "from tensorflow.keras.preprocessing.sequence import pad_sequences\n",
    "\n",
    "!wget --no-check-certificate \\\n",
    "    https://storage.googleapis.com/laurencemoroney-blog.appspot.com/bbc-text.csv \\\n",
    "    -O /Users/tanuj/Natural-Language-Processing-in-TensorFlow/bbc_dataset/bbc-text.csv"
   ]
  },
  {
   "cell_type": "code",
   "execution_count": 4,
   "metadata": {
    "id": "EYo6A4v5ZABQ"
   },
   "outputs": [],
   "source": [
    "vocab_size = 1000\n",
    "embedding_dim = 16\n",
    "max_length = 120\n",
    "trunc_type='post'\n",
    "padding_type='post'\n",
    "oov_tok = \"<OOV>\"\n",
    "training_portion = .8"
   ]
  },
  {
   "cell_type": "code",
   "execution_count": 5,
   "metadata": {
    "id": "iU1qq3_SZBx_"
   },
   "outputs": [
    {
     "name": "stdout",
     "output_type": "stream",
     "text": [
      "153\n"
     ]
    }
   ],
   "source": [
    "sentences = []\n",
    "labels = []\n",
    "stopwords = [ \"a\", \"about\", \"above\", \"after\", \"again\", \"against\", \"all\", \"am\", \"an\", \"and\", \"any\", \"are\", \"as\", \"at\", \"be\", \"because\", \"been\", \"before\", \"being\", \"below\", \"between\", \"both\", \"but\", \"by\", \"could\", \"did\", \"do\", \"does\", \"doing\", \"down\", \"during\", \"each\", \"few\", \"for\", \"from\", \"further\", \"had\", \"has\", \"have\", \"having\", \"he\", \"he'd\", \"he'll\", \"he's\", \"her\", \"here\", \"here's\", \"hers\", \"herself\", \"him\", \"himself\", \"his\", \"how\", \"how's\", \"i\", \"i'd\", \"i'll\", \"i'm\", \"i've\", \"if\", \"in\", \"into\", \"is\", \"it\", \"it's\", \"its\", \"itself\", \"let's\", \"me\", \"more\", \"most\", \"my\", \"myself\", \"nor\", \"of\", \"on\", \"once\", \"only\", \"or\", \"other\", \"ought\", \"our\", \"ours\", \"ourselves\", \"out\", \"over\", \"own\", \"same\", \"she\", \"she'd\", \"she'll\", \"she's\", \"should\", \"so\", \"some\", \"such\", \"than\", \"that\", \"that's\", \"the\", \"their\", \"theirs\", \"them\", \"themselves\", \"then\", \"there\", \"there's\", \"these\", \"they\", \"they'd\", \"they'll\", \"they're\", \"they've\", \"this\", \"those\", \"through\", \"to\", \"too\", \"under\", \"until\", \"up\", \"very\", \"was\", \"we\", \"we'd\", \"we'll\", \"we're\", \"we've\", \"were\", \"what\", \"what's\", \"when\", \"when's\", \"where\", \"where's\", \"which\", \"while\", \"who\", \"who's\", \"whom\", \"why\", \"why's\", \"with\", \"would\", \"you\", \"you'd\", \"you'll\", \"you're\", \"you've\", \"your\", \"yours\", \"yourself\", \"yourselves\" ]\n",
    "print(len(stopwords))"
   ]
  },
  {
   "cell_type": "code",
   "execution_count": 6,
   "metadata": {},
   "outputs": [
    {
     "name": "stdout",
     "output_type": "stream",
     "text": [
      "2225\n",
      "2225\n",
      "tv future hands viewers home theatre systems  plasma high-definition tvs  digital video recorders moving living room  way people watch tv will radically different five years  time.  according expert panel gathered annual consumer electronics show las vegas discuss new technologies will impact one favourite pastimes. us leading trend  programmes content will delivered viewers via home networks  cable  satellite  telecoms companies  broadband service providers front rooms portable devices.  one talked-about technologies ces digital personal video recorders (dvr pvr). set-top boxes  like us s tivo uk s sky+ system  allow people record  store  play  pause forward wind tv programmes want.  essentially  technology allows much personalised tv. also built-in high-definition tv sets  big business japan us  slower take off europe lack high-definition programming. not can people forward wind adverts  can also forget abiding network channel schedules  putting together a-la-carte entertainment. us networks cable satellite companies worried means terms advertising revenues well  brand identity  viewer loyalty channels. although us leads technology moment  also concern raised europe  particularly growing uptake services like sky+.  happens today  will see nine months years  time uk   adam hume  bbc broadcast s futurologist told bbc news website. likes bbc  no issues lost advertising revenue yet. pressing issue moment commercial uk broadcasters  brand loyalty important everyone.  will talking content brands rather network brands   said tim hanlon  brand communications firm starcom mediavest.  reality broadband connections  anybody can producer content.  added:  challenge now hard promote programme much choice.   means  said stacey jolna  senior vice president tv guide tv group  way people find content want watch simplified tv viewers. means networks  us terms  channels take leaf google s book search engine future  instead scheduler help people find want watch. kind channel model might work younger ipod generation used taking control gadgets play them. might not suit everyone  panel recognised. older generations comfortable familiar schedules channel brands know getting. perhaps not want much choice put hands  mr hanlon suggested.  end  kids just diapers pushing buttons already - everything possible available   said mr hanlon.  ultimately  consumer will tell market want.   50 000 new gadgets technologies showcased ces  many enhancing tv-watching experience. high-definition tv sets everywhere many new models lcd (liquid crystal display) tvs launched dvr capability built  instead external boxes. one example launched show humax s 26-inch lcd tv 80-hour tivo dvr dvd recorder. one us s biggest satellite tv companies  directtv  even launched branded dvr show 100-hours recording capability  instant replay  search function. set can pause rewind tv 90 hours. microsoft chief bill gates announced pre-show keynote speech partnership tivo  called tivotogo  means people can play recorded programmes windows pcs mobile devices. reflect increasing trend freeing multimedia people can watch want  want.\n"
     ]
    }
   ],
   "source": [
    "with open(\"bbc_dataset/bbc-text.csv\", 'r') as csvfile:\n",
    "    reader = csv.reader(csvfile, delimiter=',')\n",
    "    next(reader)\n",
    "    for row in reader:\n",
    "        labels.append(row[0])\n",
    "        sentence = row[1]\n",
    "        for word in stopwords:\n",
    "            token = \" \" + word + \" \"\n",
    "            sentence = sentence.replace(token, \" \")\n",
    "        sentences.append(sentence)\n",
    "\n",
    "print(len(labels))\n",
    "print(len(sentences))\n",
    "print(sentences[0])"
   ]
  },
  {
   "cell_type": "code",
   "execution_count": 7,
   "metadata": {
    "id": "XfdaWh06ZGe3"
   },
   "outputs": [
    {
     "name": "stdout",
     "output_type": "stream",
     "text": [
      "1780\n",
      "1780\n",
      "1780\n",
      "445\n",
      "445\n"
     ]
    }
   ],
   "source": [
    "train_size = int(len(sentences) * training_portion)\n",
    "\n",
    "train_sentences = sentences[:train_size]\n",
    "train_labels = labels[:train_size]\n",
    "\n",
    "validation_sentences = sentences[train_size:]\n",
    "validation_labels = labels[train_size:]\n",
    "\n",
    "print(train_size)\n",
    "print(len(train_sentences))\n",
    "print(len(train_labels))\n",
    "print(len(validation_sentences))\n",
    "print(len(validation_labels))"
   ]
  },
  {
   "cell_type": "code",
   "execution_count": 8,
   "metadata": {
    "id": "ULzA8xhwZI22"
   },
   "outputs": [
    {
     "name": "stdout",
     "output_type": "stream",
     "text": [
      "449\n",
      "120\n",
      "200\n",
      "120\n",
      "192\n",
      "120\n"
     ]
    }
   ],
   "source": [
    "tokenizer = Tokenizer(num_words = vocab_size, oov_token=oov_tok)\n",
    "tokenizer.fit_on_texts(train_sentences)\n",
    "word_index = tokenizer.word_index\n",
    "\n",
    "train_sequences = tokenizer.texts_to_sequences(train_sentences)\n",
    "train_padded = pad_sequences(train_sequences, padding=padding_type, maxlen=max_length)\n",
    "\n",
    "print(len(train_sequences[0]))\n",
    "print(len(train_padded[0]))\n",
    "\n",
    "print(len(train_sequences[1]))\n",
    "print(len(train_padded[1]))\n",
    "\n",
    "print(len(train_sequences[10]))\n",
    "print(len(train_padded[10]))"
   ]
  },
  {
   "cell_type": "code",
   "execution_count": 9,
   "metadata": {
    "id": "c8PeFWzPZLW_"
   },
   "outputs": [
    {
     "name": "stdout",
     "output_type": "stream",
     "text": [
      "445\n",
      "(445, 120)\n"
     ]
    }
   ],
   "source": [
    "validation_sequences = tokenizer.texts_to_sequences(validation_sentences)\n",
    "validation_padded = pad_sequences(validation_sequences, padding=padding_type, maxlen=max_length)\n",
    "\n",
    "print(len(validation_sequences))\n",
    "print(validation_padded.shape)"
   ]
  },
  {
   "cell_type": "code",
   "execution_count": 10,
   "metadata": {
    "id": "XkWiQ_FKZNp2"
   },
   "outputs": [
    {
     "name": "stdout",
     "output_type": "stream",
     "text": [
      "[4]\n",
      "[2]\n",
      "[1]\n",
      "(1780, 1)\n",
      "[5]\n",
      "[4]\n",
      "[3]\n",
      "(445, 1)\n"
     ]
    }
   ],
   "source": [
    "label_tokenizer = Tokenizer()\n",
    "label_tokenizer.fit_on_texts(labels)\n",
    "\n",
    "training_label_seq = np.array(label_tokenizer.texts_to_sequences(train_labels))\n",
    "validation_label_seq = np.array(label_tokenizer.texts_to_sequences(validation_labels))\n",
    "\n",
    "print(training_label_seq[0])\n",
    "print(training_label_seq[1])\n",
    "print(training_label_seq[2])\n",
    "print(training_label_seq.shape)\n",
    "\n",
    "print(validation_label_seq[0])\n",
    "print(validation_label_seq[1])\n",
    "print(validation_label_seq[2])\n",
    "print(validation_label_seq.shape)"
   ]
  },
  {
   "cell_type": "code",
   "execution_count": 18,
   "metadata": {
    "id": "HZ5um4MWZP-W"
   },
   "outputs": [
    {
     "name": "stdout",
     "output_type": "stream",
     "text": [
      "Model: \"sequential_1\"\n",
      "_________________________________________________________________\n",
      "Layer (type)                 Output Shape              Param #   \n",
      "=================================================================\n",
      "embedding_1 (Embedding)      (None, 120, 16)           16000     \n",
      "_________________________________________________________________\n",
      "global_average_pooling1d_1 ( (None, 16)                0         \n",
      "_________________________________________________________________\n",
      "dense_2 (Dense)              (None, 24)                408       \n",
      "_________________________________________________________________\n",
      "dense_3 (Dense)              (None, 6)                 150       \n",
      "=================================================================\n",
      "Total params: 16,558\n",
      "Trainable params: 16,558\n",
      "Non-trainable params: 0\n",
      "_________________________________________________________________\n"
     ]
    }
   ],
   "source": [
    "model = tf.keras.Sequential([\n",
    "    tf.keras.layers.Embedding(vocab_size, embedding_dim, input_length=max_length),\n",
    "    tf.keras.layers.GlobalAveragePooling1D(),\n",
    "    tf.keras.layers.Dense(24, activation='relu'),\n",
    "    tf.keras.layers.Dense(6, activation='softmax')\n",
    "])\n",
    "model.compile(loss='sparse_categorical_crossentropy',optimizer='adam',metrics=['accuracy'])\n",
    "model.summary()"
   ]
  },
  {
   "cell_type": "code",
   "execution_count": 12,
   "metadata": {
    "id": "XsfdxySKZSXu"
   },
   "outputs": [
    {
     "name": "stdout",
     "output_type": "stream",
     "text": [
      "Train on 1780 samples, validate on 445 samples\n",
      "Epoch 1/30\n",
      "1780/1780 - 0s - loss: 1.7699 - acc: 0.3775 - val_loss: 1.7393 - val_acc: 0.7191\n",
      "Epoch 2/30\n",
      "1780/1780 - 0s - loss: 1.6937 - acc: 0.7258 - val_loss: 1.6395 - val_acc: 0.7798\n",
      "Epoch 3/30\n",
      "1780/1780 - 0s - loss: 1.5600 - acc: 0.6404 - val_loss: 1.4792 - val_acc: 0.6629\n",
      "Epoch 4/30\n",
      "1780/1780 - 0s - loss: 1.3694 - acc: 0.7281 - val_loss: 1.2764 - val_acc: 0.6697\n",
      "Epoch 5/30\n",
      "1780/1780 - 0s - loss: 1.1478 - acc: 0.7404 - val_loss: 1.0695 - val_acc: 0.8022\n",
      "Epoch 6/30\n",
      "1780/1780 - 0s - loss: 0.9400 - acc: 0.8326 - val_loss: 0.8884 - val_acc: 0.8607\n",
      "Epoch 7/30\n",
      "1780/1780 - 0s - loss: 0.7642 - acc: 0.8871 - val_loss: 0.7390 - val_acc: 0.8674\n",
      "Epoch 8/30\n",
      "1780/1780 - 0s - loss: 0.6238 - acc: 0.9067 - val_loss: 0.6246 - val_acc: 0.8809\n",
      "Epoch 9/30\n",
      "1780/1780 - 0s - loss: 0.5143 - acc: 0.9213 - val_loss: 0.5367 - val_acc: 0.8876\n",
      "Epoch 10/30\n",
      "1780/1780 - 0s - loss: 0.4281 - acc: 0.9320 - val_loss: 0.4707 - val_acc: 0.9056\n",
      "Epoch 11/30\n",
      "1780/1780 - 0s - loss: 0.3609 - acc: 0.9399 - val_loss: 0.4216 - val_acc: 0.9124\n",
      "Epoch 12/30\n",
      "1780/1780 - 0s - loss: 0.3079 - acc: 0.9461 - val_loss: 0.3789 - val_acc: 0.9101\n",
      "Epoch 13/30\n",
      "1780/1780 - 0s - loss: 0.2647 - acc: 0.9539 - val_loss: 0.3454 - val_acc: 0.9146\n",
      "Epoch 14/30\n",
      "1780/1780 - 0s - loss: 0.2288 - acc: 0.9607 - val_loss: 0.3183 - val_acc: 0.9213\n",
      "Epoch 15/30\n",
      "1780/1780 - 0s - loss: 0.1996 - acc: 0.9685 - val_loss: 0.2967 - val_acc: 0.9146\n",
      "Epoch 16/30\n",
      "1780/1780 - 0s - loss: 0.1737 - acc: 0.9730 - val_loss: 0.2741 - val_acc: 0.9258\n",
      "Epoch 17/30\n",
      "1780/1780 - 0s - loss: 0.1524 - acc: 0.9764 - val_loss: 0.2596 - val_acc: 0.9326\n",
      "Epoch 18/30\n",
      "1780/1780 - 0s - loss: 0.1339 - acc: 0.9798 - val_loss: 0.2479 - val_acc: 0.9303\n",
      "Epoch 19/30\n",
      "1780/1780 - 0s - loss: 0.1186 - acc: 0.9837 - val_loss: 0.2369 - val_acc: 0.9348\n",
      "Epoch 20/30\n",
      "1780/1780 - 0s - loss: 0.1052 - acc: 0.9843 - val_loss: 0.2279 - val_acc: 0.9348\n",
      "Epoch 21/30\n",
      "1780/1780 - 0s - loss: 0.0934 - acc: 0.9871 - val_loss: 0.2221 - val_acc: 0.9348\n",
      "Epoch 22/30\n",
      "1780/1780 - 0s - loss: 0.0838 - acc: 0.9916 - val_loss: 0.2158 - val_acc: 0.9326\n",
      "Epoch 23/30\n",
      "1780/1780 - 0s - loss: 0.0751 - acc: 0.9916 - val_loss: 0.2095 - val_acc: 0.9326\n",
      "Epoch 24/30\n",
      "1780/1780 - 0s - loss: 0.0675 - acc: 0.9938 - val_loss: 0.2060 - val_acc: 0.9326\n",
      "Epoch 25/30\n",
      "1780/1780 - 0s - loss: 0.0609 - acc: 0.9944 - val_loss: 0.2015 - val_acc: 0.9371\n",
      "Epoch 26/30\n",
      "1780/1780 - 0s - loss: 0.0548 - acc: 0.9949 - val_loss: 0.1993 - val_acc: 0.9348\n",
      "Epoch 27/30\n",
      "1780/1780 - 0s - loss: 0.0500 - acc: 0.9961 - val_loss: 0.1936 - val_acc: 0.9326\n",
      "Epoch 28/30\n",
      "1780/1780 - 0s - loss: 0.0448 - acc: 0.9978 - val_loss: 0.1934 - val_acc: 0.9371\n",
      "Epoch 29/30\n",
      "1780/1780 - 0s - loss: 0.0409 - acc: 0.9983 - val_loss: 0.1895 - val_acc: 0.9393\n",
      "Epoch 30/30\n",
      "1780/1780 - 0s - loss: 0.0367 - acc: 0.9983 - val_loss: 0.1890 - val_acc: 0.9438\n"
     ]
    }
   ],
   "source": [
    "num_epochs = 30\n",
    "history = model.fit(train_padded, training_label_seq, epochs=num_epochs, validation_data=(validation_padded, validation_label_seq), verbose=2)"
   ]
  },
  {
   "cell_type": "code",
   "execution_count": 13,
   "metadata": {
    "id": "dQ0BX2apXS9u"
   },
   "outputs": [
    {
     "data": {
      "image/png": "[encoded data removed]",
      "text/plain": [
       "<Figure size 432x288 with 1 Axes>"
      ]
     },
     "metadata": {
      "needs_background": "light"
     },
     "output_type": "display_data"
    },
    {
     "data": {
      "image/png": "[encoded data removed]",
      "text/plain": [
       "<Figure size 432x288 with 1 Axes>"
      ]
     },
     "metadata": {
      "needs_background": "light"
     },
     "output_type": "display_data"
    }
   ],
   "source": [
    "import matplotlib.pyplot as plt\n",
    "\n",
    "\n",
    "def plot_graphs(history, string):\n",
    "  plt.plot(history.history[string])\n",
    "  plt.plot(history.history['val_'+string])\n",
    "  plt.xlabel(\"Epochs\")\n",
    "  plt.ylabel(string)\n",
    "  plt.legend([string, 'val_'+string])\n",
    "  plt.show()\n",
    "  \n",
    "plot_graphs(history, \"acc\")\n",
    "plot_graphs(history, \"loss\")"
   ]
  },
  {
   "cell_type": "code",
   "execution_count": 14,
   "metadata": {
    "id": "w7Xc-uWxXhML"
   },
   "outputs": [],
   "source": [
    "reverse_word_index = dict([(value, key) for (key, value) in word_index.items()])\n",
    "\n",
    "def decode_sentence(text):\n",
    "    return ' '.join([reverse_word_index.get(i, '?') for i in text])\n"
   ]
  },
  {
   "cell_type": "code",
   "execution_count": 15,
   "metadata": {
    "id": "OhnFA_TDXrih"
   },
   "outputs": [
    {
     "name": "stdout",
     "output_type": "stream",
     "text": [
      "(1000, 16)\n"
     ]
    }
   ],
   "source": [
    "e = model.layers[0]\n",
    "weights = e.get_weights()[0]\n",
    "print(weights.shape)          # shape: (vocab_size, embedding_dim)"
   ]
  },
  {
   "cell_type": "code",
   "execution_count": 16,
   "metadata": {
    "id": "_POzcWWAXudL"
   },
   "outputs": [],
   "source": [
    "import io\n",
    "\n",
    "out_v = io.open('vecs.tsv', 'w', encoding='utf-8')\n",
    "out_m = io.open('meta.tsv', 'w', encoding='utf-8')\n",
    "for word_num in range(1, vocab_size):\n",
    "  word = reverse_word_index[word_num]\n",
    "  embeddings = weights[word_num]\n",
    "  out_m.write(word + \"\\n\")\n",
    "  out_v.write('\\t'.join([str(x) for x in embeddings]) + \"\\n\")\n",
    "out_v.close()\n",
    "out_m.close()"
   ]
  },
  {
   "cell_type": "code",
   "execution_count": 17,
   "metadata": {
    "id": "VmqpQMZ_XyOa"
   },
   "outputs": [],
   "source": [
    "try:\n",
    "  from google.colab import files\n",
    "except ImportError:\n",
    "  pass\n",
    "else:\n",
    "  files.download('vecs.tsv')\n",
    "  files.download('meta.tsv')"
   ]
  }
 ],
 "metadata": {
  "accelerator": "GPU",
  "colab": {
   "collapsed_sections": [],
   "name": "Course 3 - Week 2 - Exercise - Answer.ipynb",
   "provenance": [],
   "toc_visible": true
  },
  "kernelspec": {
   "display_name": "Python 3",
   "language": "python",
   "name": "python3"
  },
  "language_info": {
   "codemirror_mode": {
    "name": "ipython",
    "version": 3
   },
   "file_extension": ".py",
   "mimetype": "text/x-python",
   "name": "python",
   "nbconvert_exporter": "python",
   "pygments_lexer": "ipython3",
   "version": "3.7.7"
  }
 },
 "nbformat": 4,
 "nbformat_minor": 1
}
