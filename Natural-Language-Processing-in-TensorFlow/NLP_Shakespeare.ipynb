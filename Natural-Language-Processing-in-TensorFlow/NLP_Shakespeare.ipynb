{
 "cells": [
  {
   "cell_type": "markdown",
   "metadata": {
    "id": "zX4Kg8DUTKWO"
   },
   "source": [
    "#### For this task, you’ll take a corpus of Shakespeare sonnets, and use them to train a model with LSTM. Then, see if that model can create poetry!"
   ]
  },
  {
   "cell_type": "code",
   "execution_count": 3,
   "metadata": {
    "id": "BOwsuGQQY9OL"
   },
   "outputs": [],
   "source": [
    "from tensorflow.keras.preprocessing.sequence import pad_sequences\n",
    "from tensorflow.keras.layers import Embedding, LSTM, Dense, Dropout, Bidirectional\n",
    "from tensorflow.keras.preprocessing.text import Tokenizer\n",
    "from tensorflow.keras.models import Sequential\n",
    "from tensorflow.keras.optimizers import Adam\n",
    "from tensorflow.keras import regularizers\n",
    "import tensorflow.keras.utils as ku \n",
    "import numpy as np "
   ]
  },
  {
   "cell_type": "code",
   "execution_count": 6,
   "metadata": {
    "id": "PRnDnCW-Z7qv"
   },
   "outputs": [
    {
     "name": "stderr",
     "output_type": "stream",
     "text": [
      "--2020-11-24 16:02:26--  https://storage.googleapis.com/laurencemoroney-blog.appspot.com/sonnets.txt\n",
      "Resolving storage.googleapis.com (storage.googleapis.com)... 2a00:1450:4001:81b::2010, 2a00:1450:4001:81d::2010, 2a00:1450:4001:808::2010, ...\n",
      "Connecting to storage.googleapis.com (storage.googleapis.com)|2a00:1450:4001:81b::2010|:443... connected.\n",
      "HTTP request sent, awaiting response... 200 OK\n",
      "Length: 93578 (91K) [text/plain]\n",
      "Saving to: '/Users/tanuj/Natural-Language-Processing-in-TensorFlow/Shakespeare_dataset/sonnets.txt'\n",
      "\n",
      "     0K .......... .......... .......... .......... .......... 54% 1.08M 0s\n",
      "    50K .......... .......... .......... .......... .         100% 4.86M=0.05s\n",
      "\n",
      "2020-11-24 16:02:26 (1.67 MB/s) - '/Users/tanuj/Natural-Language-Processing-in-TensorFlow/Shakespeare_dataset/sonnets.txt' saved [93578/93578]\n",
      "\n"
     ]
    }
   ],
   "source": [
    "tokenizer = Tokenizer()\n",
    "\n",
    "# import data\n",
    "!wget --no-check-certificate \\\n",
    "    https://storage.googleapis.com/laurencemoroney-blog.appspot.com/sonnets.txt \\\n",
    "    -O /Users/tanuj/Natural-Language-Processing-in-TensorFlow/Shakespeare_dataset/sonnets.txt\n",
    "    \n",
    "data = open('Shakespeare_dataset/sonnets.txt').read()\n",
    "\n",
    "corpus = data.lower().split(\"\\n\")\n",
    "\n",
    "tokenizer.fit_on_texts(corpus)\n",
    "total_words = len(tokenizer.word_index) + 1\n",
    "\n",
    "# create input sequences using list of tokens\n",
    "input_sequences = []\n",
    "for line in corpus:\n",
    "    token_list = tokenizer.texts_to_sequences([line])[0]\n",
    "    for i in range(1, len(token_list)):\n",
    "        n_gram_sequence = token_list[:i+1]\n",
    "        input_sequences.append(n_gram_sequence)\n",
    "\n",
    "\n",
    "# pad sequences \n",
    "max_sequence_len = max([len(x) for x in input_sequences])\n",
    "input_sequences = np.array(pad_sequences(input_sequences, maxlen=max_sequence_len, padding='pre'))\n",
    "\n",
    "# create predictors and label\n",
    "predictors, label = input_sequences[:,:-1],input_sequences[:,-1]\n",
    "\n",
    "label = ku.to_categorical(label, num_classes=total_words)"
   ]
  },
  {
   "cell_type": "code",
   "execution_count": 8,
   "metadata": {
    "id": "w9vH8Y59ajYL"
   },
   "outputs": [
    {
     "name": "stdout",
     "output_type": "stream",
     "text": [
      "Model: \"sequential_1\"\n",
      "_________________________________________________________________\n",
      "Layer (type)                 Output Shape              Param #   \n",
      "=================================================================\n",
      "embedding_1 (Embedding)      (None, 10, 100)           321100    \n",
      "_________________________________________________________________\n",
      "bidirectional_1 (Bidirection (None, 10, 300)           301200    \n",
      "_________________________________________________________________\n",
      "dropout_1 (Dropout)          (None, 10, 300)           0         \n",
      "_________________________________________________________________\n",
      "lstm_3 (LSTM)                (None, 100)               160400    \n",
      "_________________________________________________________________\n",
      "dense_2 (Dense)              (None, 1605)              162105    \n",
      "_________________________________________________________________\n",
      "dense_3 (Dense)              (None, 3211)              5156866   \n",
      "=================================================================\n",
      "Total params: 6,101,671\n",
      "Trainable params: 6,101,671\n",
      "Non-trainable params: 0\n",
      "_________________________________________________________________\n",
      "None\n"
     ]
    }
   ],
   "source": [
    "model = Sequential()\n",
    "model.add(Embedding(total_words, 100, input_length=max_sequence_len-1))\n",
    "model.add(Bidirectional(LSTM(150, return_sequences = True)))\n",
    "model.add(Dropout(0.2))\n",
    "model.add(LSTM(100))\n",
    "model.add(Dense(total_words/2, activation='relu', kernel_regularizer=regularizers.l2(0.01)))\n",
    "model.add(Dense(total_words, activation='softmax'))\n",
    "model.compile(loss='categorical_crossentropy', optimizer='adam', metrics=['accuracy'])\n",
    "\n",
    "print(model.summary())\n"
   ]
  },
  {
   "cell_type": "code",
   "execution_count": 10,
   "metadata": {
    "id": "AIg2f1HBxqof"
   },
   "outputs": [
    {
     "name": "stdout",
     "output_type": "stream",
     "text": [
      "Epoch 1/100\n",
      "15462/15462 [==============================] - 35s 2ms/sample - loss: 6.7764 - acc: 0.0207\n",
      "Epoch 2/100\n",
      "15462/15462 [==============================] - 37s 2ms/sample - loss: 6.4990 - acc: 0.0217\n",
      "Epoch 3/100\n",
      "15462/15462 [==============================] - 39s 3ms/sample - loss: 6.3682 - acc: 0.0254\n",
      "Epoch 4/100\n",
      "15462/15462 [==============================] - 35s 2ms/sample - loss: 6.2526 - acc: 0.0298\n",
      "Epoch 5/100\n",
      "15462/15462 [==============================] - 36s 2ms/sample - loss: 6.1650 - acc: 0.0362\n",
      "Epoch 6/100\n",
      "15462/15462 [==============================] - 34s 2ms/sample - loss: 6.0851 - acc: 0.0395\n",
      "Epoch 7/100\n",
      "15462/15462 [==============================] - 32s 2ms/sample - loss: 6.0101 - acc: 0.0416\n",
      "Epoch 8/100\n",
      "15462/15462 [==============================] - 34s 2ms/sample - loss: 5.9188 - acc: 0.0480\n",
      "Epoch 9/100\n",
      "15462/15462 [==============================] - 33s 2ms/sample - loss: 5.8139 - acc: 0.0530\n",
      "Epoch 10/100\n",
      "15462/15462 [==============================] - 35s 2ms/sample - loss: 5.7021 - acc: 0.0573\n",
      "Epoch 11/100\n",
      "15462/15462 [==============================] - 35s 2ms/sample - loss: 5.5915 - acc: 0.0629\n",
      "Epoch 12/100\n",
      "15462/15462 [==============================] - 35s 2ms/sample - loss: 5.4868 - acc: 0.0700\n",
      "Epoch 13/100\n",
      "15462/15462 [==============================] - 36s 2ms/sample - loss: 5.3839 - acc: 0.0777\n",
      "Epoch 14/100\n",
      "15462/15462 [==============================] - 33s 2ms/sample - loss: 5.2828 - acc: 0.0817\n",
      "Epoch 15/100\n",
      "15462/15462 [==============================] - 32s 2ms/sample - loss: 5.1758 - acc: 0.0894\n",
      "Epoch 16/100\n",
      "15462/15462 [==============================] - 32s 2ms/sample - loss: 5.0724 - acc: 0.0999\n",
      "Epoch 17/100\n",
      "15462/15462 [==============================] - 32s 2ms/sample - loss: 4.9688 - acc: 0.1045\n",
      "Epoch 18/100\n",
      "15462/15462 [==============================] - 32s 2ms/sample - loss: 4.8655 - acc: 0.1133\n",
      "Epoch 19/100\n",
      "15462/15462 [==============================] - 32s 2ms/sample - loss: 4.7640 - acc: 0.1240\n",
      "Epoch 20/100\n",
      "15462/15462 [==============================] - 32s 2ms/sample - loss: 4.6604 - acc: 0.1319\n",
      "Epoch 21/100\n",
      "15462/15462 [==============================] - 34s 2ms/sample - loss: 4.5598 - acc: 0.1432\n",
      "Epoch 22/100\n",
      "15462/15462 [==============================] - 38s 2ms/sample - loss: 4.4543 - acc: 0.1530\n",
      "Epoch 23/100\n",
      "15462/15462 [==============================] - 35s 2ms/sample - loss: 4.3494 - acc: 0.1652\n",
      "Epoch 24/100\n",
      "15462/15462 [==============================] - 35s 2ms/sample - loss: 4.2501 - acc: 0.1746\n",
      "Epoch 25/100\n",
      "15462/15462 [==============================] - 35s 2ms/sample - loss: 4.1475 - acc: 0.1883\n",
      "Epoch 26/100\n",
      "15462/15462 [==============================] - 35s 2ms/sample - loss: 4.0495 - acc: 0.2022\n",
      "Epoch 27/100\n",
      "15462/15462 [==============================] - 36s 2ms/sample - loss: 3.9586 - acc: 0.2182\n",
      "Epoch 28/100\n",
      "15462/15462 [==============================] - 36s 2ms/sample - loss: 3.8565 - acc: 0.2309\n",
      "Epoch 29/100\n",
      "15462/15462 [==============================] - 35s 2ms/sample - loss: 3.7554 - acc: 0.2504\n",
      "Epoch 30/100\n",
      "15462/15462 [==============================] - 34s 2ms/sample - loss: 3.6568 - acc: 0.2658\n",
      "Epoch 31/100\n",
      "15462/15462 [==============================] - 34s 2ms/sample - loss: 3.5703 - acc: 0.2868\n",
      "Epoch 32/100\n",
      "15462/15462 [==============================] - 36s 2ms/sample - loss: 3.4855 - acc: 0.3064\n",
      "Epoch 33/100\n",
      "15462/15462 [==============================] - 35s 2ms/sample - loss: 3.3965 - acc: 0.3292\n",
      "Epoch 34/100\n",
      "15462/15462 [==============================] - 36s 2ms/sample - loss: 3.3122 - acc: 0.3438\n",
      "Epoch 35/100\n",
      "15462/15462 [==============================] - 35s 2ms/sample - loss: 3.2316 - acc: 0.3619\n",
      "Epoch 36/100\n",
      "15462/15462 [==============================] - 34s 2ms/sample - loss: 3.1397 - acc: 0.3864\n",
      "Epoch 37/100\n",
      "15462/15462 [==============================] - 36s 2ms/sample - loss: 3.0666 - acc: 0.4000\n",
      "Epoch 38/100\n",
      "15462/15462 [==============================] - 36s 2ms/sample - loss: 2.9963 - acc: 0.4166\n",
      "Epoch 39/100\n",
      "15462/15462 [==============================] - 38s 2ms/sample - loss: 2.9248 - acc: 0.4341\n",
      "Epoch 40/100\n",
      "15462/15462 [==============================] - 38s 2ms/sample - loss: 2.8545 - acc: 0.44791s - loss\n",
      "Epoch 41/100\n",
      "15462/15462 [==============================] - 37s 2ms/sample - loss: 2.7816 - acc: 0.4648\n",
      "Epoch 42/100\n",
      "15462/15462 [==============================] - 35s 2ms/sample - loss: 2.7155 - acc: 0.4814\n",
      "Epoch 43/100\n",
      "15462/15462 [==============================] - 35s 2ms/sample - loss: 2.6579 - acc: 0.4910\n",
      "Epoch 44/100\n",
      "15462/15462 [==============================] - 35s 2ms/sample - loss: 2.6023 - acc: 0.5041\n",
      "Epoch 45/100\n",
      "15462/15462 [==============================] - 35s 2ms/sample - loss: 2.5452 - acc: 0.5165\n",
      "Epoch 46/100\n",
      "15462/15462 [==============================] - 35s 2ms/sample - loss: 2.4935 - acc: 0.5306\n",
      "Epoch 47/100\n",
      "15462/15462 [==============================] - 35s 2ms/sample - loss: 2.4319 - acc: 0.5399\n",
      "Epoch 48/100\n",
      "15462/15462 [==============================] - 35s 2ms/sample - loss: 2.3739 - acc: 0.5590\n",
      "Epoch 49/100\n",
      "15462/15462 [==============================] - 35s 2ms/sample - loss: 2.3190 - acc: 0.5715\n",
      "Epoch 50/100\n",
      "15462/15462 [==============================] - 35s 2ms/sample - loss: 2.2833 - acc: 0.5749\n",
      "Epoch 51/100\n",
      "15462/15462 [==============================] - 35s 2ms/sample - loss: 2.2382 - acc: 0.5890\n",
      "Epoch 52/100\n",
      "15462/15462 [==============================] - 36s 2ms/sample - loss: 2.1904 - acc: 0.5967\n",
      "Epoch 53/100\n",
      "15462/15462 [==============================] - 36s 2ms/sample - loss: 2.1486 - acc: 0.6058\n",
      "Epoch 54/100\n",
      "15462/15462 [==============================] - 37s 2ms/sample - loss: 2.0865 - acc: 0.6226\n",
      "Epoch 55/100\n",
      "15462/15462 [==============================] - 36s 2ms/sample - loss: 2.0719 - acc: 0.6215\n",
      "Epoch 56/100\n",
      "15462/15462 [==============================] - 36s 2ms/sample - loss: 2.0218 - acc: 0.6372\n",
      "Epoch 57/100\n",
      "15462/15462 [==============================] - 39s 3ms/sample - loss: 1.9849 - acc: 0.6396\n",
      "Epoch 58/100\n",
      "15462/15462 [==============================] - 36s 2ms/sample - loss: 1.9499 - acc: 0.6464\n",
      "Epoch 59/100\n",
      "15462/15462 [==============================] - 38s 2ms/sample - loss: 1.9045 - acc: 0.6596\n",
      "Epoch 60/100\n",
      "15462/15462 [==============================] - 38s 2ms/sample - loss: 1.8775 - acc: 0.6634\n",
      "Epoch 61/100\n",
      "15462/15462 [==============================] - 36s 2ms/sample - loss: 1.8499 - acc: 0.6685\n",
      "Epoch 62/100\n",
      "15462/15462 [==============================] - 35s 2ms/sample - loss: 1.8001 - acc: 0.6846\n",
      "Epoch 63/100\n",
      "15462/15462 [==============================] - 35s 2ms/sample - loss: 1.7781 - acc: 0.6813\n",
      "Epoch 64/100\n",
      "15462/15462 [==============================] - 1473s 95ms/sample - loss: 1.7468 - acc: 0.6923\n",
      "Epoch 65/100\n",
      "15462/15462 [==============================] - 43s 3ms/sample - loss: 1.7077 - acc: 0.6982\n",
      "Epoch 66/100\n",
      "15462/15462 [==============================] - 42s 3ms/sample - loss: 1.6957 - acc: 0.6973\n",
      "Epoch 67/100\n",
      "15462/15462 [==============================] - 36s 2ms/sample - loss: 1.6616 - acc: 0.7079\n",
      "Epoch 68/100\n",
      "15462/15462 [==============================] - 35s 2ms/sample - loss: 1.6288 - acc: 0.7148\n",
      "Epoch 69/100\n",
      "15462/15462 [==============================] - 35s 2ms/sample - loss: 1.6124 - acc: 0.7197\n",
      "Epoch 70/100\n",
      "15462/15462 [==============================] - 35s 2ms/sample - loss: 1.5892 - acc: 0.7215\n",
      "Epoch 71/100\n",
      "15462/15462 [==============================] - 35s 2ms/sample - loss: 1.5597 - acc: 0.7294\n",
      "Epoch 72/100\n",
      "15462/15462 [==============================] - 35s 2ms/sample - loss: 1.5369 - acc: 0.7333\n",
      "Epoch 73/100\n",
      "15462/15462 [==============================] - 35s 2ms/sample - loss: 1.5140 - acc: 0.7397\n",
      "Epoch 74/100\n",
      "15462/15462 [==============================] - 35s 2ms/sample - loss: 1.4994 - acc: 0.7410\n",
      "Epoch 75/100\n",
      "15462/15462 [==============================] - 36s 2ms/sample - loss: 1.4773 - acc: 0.7454\n",
      "Epoch 76/100\n",
      "15462/15462 [==============================] - 39s 3ms/sample - loss: 1.4510 - acc: 0.7517\n",
      "Epoch 77/100\n",
      "15462/15462 [==============================] - 37s 2ms/sample - loss: 1.4501 - acc: 0.7487\n",
      "Epoch 78/100\n",
      "15462/15462 [==============================] - 37s 2ms/sample - loss: 1.4079 - acc: 0.7577\n",
      "Epoch 79/100\n",
      "15462/15462 [==============================] - 37s 2ms/sample - loss: 1.3829 - acc: 0.7635\n",
      "Epoch 80/100\n",
      "15462/15462 [==============================] - 37s 2ms/sample - loss: 1.3775 - acc: 0.7652\n",
      "Epoch 81/100\n",
      "15462/15462 [==============================] - 37s 2ms/sample - loss: 1.3627 - acc: 0.7672\n",
      "Epoch 82/100\n",
      "15462/15462 [==============================] - 42s 3ms/sample - loss: 1.3592 - acc: 0.7651\n",
      "Epoch 83/100\n",
      "15462/15462 [==============================] - 41s 3ms/sample - loss: 1.3446 - acc: 0.76542s - \n",
      "Epoch 84/100\n",
      "15462/15462 [==============================] - ETA: 0s - loss: 1.3217 - acc: 0.768 - 42s 3ms/sample - loss: 1.3221 - acc: 0.7680\n",
      "Epoch 85/100\n",
      "15462/15462 [==============================] - 41s 3ms/sample - loss: 1.2994 - acc: 0.7754\n",
      "Epoch 86/100\n",
      "15462/15462 [==============================] - 40s 3ms/sample - loss: 1.2838 - acc: 0.7809\n",
      "Epoch 87/100\n",
      "15462/15462 [==============================] - 40s 3ms/sample - loss: 1.2884 - acc: 0.7746\n",
      "Epoch 88/100\n",
      "15462/15462 [==============================] - 40s 3ms/sample - loss: 1.2676 - acc: 0.7773\n",
      "Epoch 89/100\n",
      "15462/15462 [==============================] - 40s 3ms/sample - loss: 1.2537 - acc: 0.7855\n",
      "Epoch 90/100\n",
      "15462/15462 [==============================] - 40s 3ms/sample - loss: 1.2411 - acc: 0.7846\n",
      "Epoch 91/100\n",
      "15462/15462 [==============================] - 43s 3ms/sample - loss: 1.2209 - acc: 0.7912\n",
      "Epoch 92/100\n",
      "15462/15462 [==============================] - 46s 3ms/sample - loss: 1.1980 - acc: 0.7942\n",
      "Epoch 93/100\n",
      "15462/15462 [==============================] - 46s 3ms/sample - loss: 1.1946 - acc: 0.7954\n",
      "Epoch 94/100\n",
      "15462/15462 [==============================] - 42s 3ms/sample - loss: 1.1874 - acc: 0.7931\n",
      "Epoch 95/100\n",
      "15462/15462 [==============================] - 43s 3ms/sample - loss: 1.1871 - acc: 0.7944\n",
      "Epoch 96/100\n",
      "15462/15462 [==============================] - 37s 2ms/sample - loss: 1.1705 - acc: 0.7987\n",
      "Epoch 97/100\n",
      "15462/15462 [==============================] - 32s 2ms/sample - loss: 1.1642 - acc: 0.7972\n",
      "Epoch 98/100\n",
      "15462/15462 [==============================] - 32s 2ms/sample - loss: 1.1447 - acc: 0.8009\n",
      "Epoch 99/100\n",
      "15462/15462 [==============================] - 36s 2ms/sample - loss: 1.1339 - acc: 0.8025\n",
      "Epoch 100/100\n",
      "15462/15462 [==============================] - 38s 2ms/sample - loss: 1.1356 - acc: 0.8016\n"
     ]
    }
   ],
   "source": [
    " history = model.fit(predictors, label, epochs=100, verbose=1)"
   ]
  },
  {
   "cell_type": "code",
   "execution_count": 12,
   "metadata": {
    "id": "1fXTEO3GJ282"
   },
   "outputs": [
    {
     "data": {
      "image/png": "[encoded data removed]",
      "text/plain": [
       "<Figure size 432x288 with 1 Axes>"
      ]
     },
     "metadata": {
      "needs_background": "light"
     },
     "output_type": "display_data"
    },
    {
     "data": {
      "image/png": "[encoded data removed]",
      "text/plain": [
       "<Figure size 432x288 with 1 Axes>"
      ]
     },
     "metadata": {
      "needs_background": "light"
     },
     "output_type": "display_data"
    }
   ],
   "source": [
    "import matplotlib.pyplot as plt\n",
    "acc = history.history['acc']\n",
    "loss = history.history['loss']\n",
    "\n",
    "epochs = range(len(acc))\n",
    "\n",
    "plt.plot(epochs, acc, 'b', label='Training accuracy')\n",
    "plt.title('Training accuracy')\n",
    "\n",
    "plt.figure()\n",
    "\n",
    "plt.plot(epochs, loss, 'b', label='Training Loss')\n",
    "plt.title('Training loss')\n",
    "plt.legend()\n",
    "\n",
    "plt.show()"
   ]
  },
  {
   "cell_type": "code",
   "execution_count": 13,
   "metadata": {
    "id": "6Vc6PHgxa6Hm"
   },
   "outputs": [
    {
     "name": "stdout",
     "output_type": "stream",
     "text": [
      "Help me Obi Wan Kenobi, you're my only hope more than they live forth so bold ' so remain free so part ' dyed weeds chase thee dyed quite grow sun ' quite grow twain dearer treasure shame brow brow ' an mind staineth parts ' ' doth burn his small tomb so purging and an small pen survey end shine rare torn minds men light light bow men loss in eternity so lie to thee in thee alone was see thee bold so bold mine time ever not so cheeks ' live young me bow well must be seeming youth his part ' alive her wrong time strong\n"
     ]
    }
   ],
   "source": [
    "# give a set of words(phrase) predict next 100 words\n",
    "\n",
    "seed_text = \"Help me Obi Wan Kenobi, you're my only hope\"\n",
    "next_words = 100\n",
    "  \n",
    "for _ in range(next_words):\n",
    "    token_list = tokenizer.texts_to_sequences([seed_text])[0]\n",
    "    token_list = pad_sequences([token_list], maxlen=max_sequence_len-1, padding='pre')\n",
    "    predicted = model.predict_classes(token_list, verbose=0)\n",
    "    output_word = \"\"\n",
    "    for word, index in tokenizer.word_index.items():\n",
    "        if index == predicted:\n",
    "            output_word = word\n",
    "            break\n",
    "    seed_text += \" \" + output_word\n",
    "print(seed_text)"
   ]
  }
 ],
 "metadata": {
  "accelerator": "GPU",
  "colab": {
   "name": "NLP_Week4_Exercise_Shakespeare_Answer.ipynb",
   "provenance": [],
   "toc_visible": true
  },
  "kernelspec": {
   "display_name": "Python 3",
   "language": "python",
   "name": "python3"
  },
  "language_info": {
   "codemirror_mode": {
    "name": "ipython",
    "version": 3
   },
   "file_extension": ".py",
   "mimetype": "text/x-python",
   "name": "python",
   "nbconvert_exporter": "python",
   "pygments_lexer": "ipython3",
   "version": "3.7.7"
  }
 },
 "nbformat": 4,
 "nbformat_minor": 1
}
