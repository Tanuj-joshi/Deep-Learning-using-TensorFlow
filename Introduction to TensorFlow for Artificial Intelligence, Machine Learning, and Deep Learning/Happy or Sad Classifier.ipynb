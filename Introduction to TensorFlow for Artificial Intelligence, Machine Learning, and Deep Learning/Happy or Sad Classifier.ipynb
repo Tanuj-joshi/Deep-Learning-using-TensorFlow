{
 "cells": [
  {
   "cell_type": "markdown",
   "metadata": {
    "colab_type": "text",
    "id": "UncprnB0ymAE"
   },
   "source": [
    "Below is code with a link to a happy or sad dataset which contains 80 images, 40 happy and 40 sad. \n",
    "Create a convolutional neural network that trains to 100% accuracy on these images,  which cancels training upon hitting training accuracy of >.999"
   ]
  },
  {
   "cell_type": "code",
   "execution_count": 2,
   "metadata": {},
   "outputs": [],
   "source": [
    "import tensorflow as tf\n",
    "import os\n",
    "import zipfile\n",
    "from os import path, getcwd, chdir\n",
    "\n",
    "path = f\"{getcwd()}/dataset1/happy-or-sad.zip\"\n",
    "\n",
    "zip_ref = zipfile.ZipFile(path, 'r')\n",
    "zip_ref.extractall(\"/dataset2/h-or-s\")\n",
    "zip_ref.close()"
   ]
  },
  {
   "cell_type": "code",
   "execution_count": 3,
   "metadata": {},
   "outputs": [],
   "source": [
    "def train_happy_sad_model():\n",
    "\n",
    "    DESIRED_ACCURACY = 0.999\n",
    "\n",
    "    class myCallback(tf.keras.callbacks.Callback):\n",
    "        def on_epoch_end(self, epoch, logs={}):\n",
    "            if(logs.get('acc')>0.999):\n",
    "                print(\"\\nCancelling training cus Accuracy reached 99.9 %\")\n",
    "                self.model.stop_training = True\n",
    "\n",
    "    callbacks = myCallback()\n",
    "    \n",
    "    # Define and Compile the Model. assume the images are 150 X 150 in your implementation.\n",
    "    model = tf.keras.models.Sequential([\n",
    "        # This is the first convolution\n",
    "        tf.keras.layers.Conv2D(16, (3,3), activation='relu', input_shape=(150, 150, 3)),\n",
    "        tf.keras.layers.MaxPooling2D(2, 2),\n",
    "        # The second convolution\n",
    "        tf.keras.layers.Conv2D(32, (3,3), activation='relu'),\n",
    "        tf.keras.layers.MaxPooling2D(2,2),\n",
    "        # The third convolution\n",
    "        tf.keras.layers.Conv2D(64, (3,3), activation='relu'),\n",
    "        tf.keras.layers.MaxPooling2D(2,2),\n",
    "        # Flatten the results to feed into a DNN\n",
    "        tf.keras.layers.Flatten(),\n",
    "        # 512 neuron hidden layer\n",
    "        tf.keras.layers.Dense(512, activation='relu'),\n",
    "        # Only 1 output neuron. It will contain a value from 0-1 where 0 for 1 class ('horses') and 1 for the other ('humans')\n",
    "        tf.keras.layers.Dense(1, activation='sigmoid')\n",
    "    ])\n",
    "\n",
    "    from tensorflow.keras.optimizers import RMSprop\n",
    "\n",
    "    model.compile(loss='binary_crossentropy',\n",
    "              optimizer=RMSprop(lr=0.001),\n",
    "              metrics=['accuracy'])\n",
    "        \n",
    "    # create an instance of an ImageDataGenerator called train_datagen and a train_generator by calling train_datagen.flow_from_directory\n",
    "\n",
    "    from tensorflow.keras.preprocessing.image import ImageDataGenerator\n",
    "\n",
    "    train_datagen = ImageDataGenerator(rescale=1/255)\n",
    "\n",
    "    # use a target_size of 150 X 150.\n",
    "    train_generator = train_datagen.flow_from_directory(\n",
    "        '/dataset2/h-or-s',            # This is the source directory for training images\n",
    "        target_size=(150, 150),        # All images will be resized to 150x150\n",
    "        batch_size=40,\n",
    "        class_mode='binary')           # Since we use binary_crossentropy loss, we need binary labels\n",
    "\n",
    "    # call model.fit_generator and train for a number of epochs\n",
    "    history = model.fit_generator(train_generator,\n",
    "      steps_per_epoch=8,  \n",
    "      epochs=25,\n",
    "      verbose=1, callbacks=[callbacks])\n",
    "    return history.history['acc'][-1]"
   ]
  },
  {
   "cell_type": "code",
   "execution_count": 5,
   "metadata": {},
   "outputs": [
    {
     "name": "stdout",
     "output_type": "stream",
     "text": [
      "Found 80 images belonging to 2 classes.\n",
      "Epoch 1/25\n",
      "8/8 [==============================] - 4s 465ms/step - loss: 1.7404 - acc: 0.5500\n",
      "Epoch 2/25\n",
      "8/8 [==============================] - 3s 405ms/step - loss: 0.5577 - acc: 0.6781\n",
      "Epoch 3/25\n",
      "8/8 [==============================] - 3s 432ms/step - loss: 0.2201 - acc: 0.9312\n",
      "Epoch 4/25\n",
      "8/8 [==============================] - 3s 418ms/step - loss: 0.1077 - acc: 0.9688\n",
      "Epoch 5/25\n",
      "8/8 [==============================] - 3s 430ms/step - loss: 0.0647 - acc: 0.9781\n",
      "Epoch 6/25\n",
      "8/8 [==============================] - 3s 423ms/step - loss: 0.0897 - acc: 0.9625\n",
      "Epoch 7/25\n",
      "8/8 [==============================] - 3s 403ms/step - loss: 0.0683 - acc: 0.9812\n",
      "Epoch 8/25\n",
      "7/8 [=========================>....] - ETA: 0s - loss: 0.0057 - acc: 1.0000\n",
      "Cancelling training cus Accuracy reached 99.9 %\n",
      "8/8 [==============================] - 3s 377ms/step - loss: 0.0060 - acc: 1.0000\n"
     ]
    },
    {
     "data": {
      "text/plain": [
       "1.0"
      ]
     },
     "execution_count": 5,
     "metadata": {},
     "output_type": "execute_result"
    }
   ],
   "source": [
    "train_happy_sad_model()"
   ]
  }
 ],
 "metadata": {
  "coursera": {
   "course_slug": "introduction-tensorflow",
   "graded_item_id": "1kAlw",
   "launcher_item_id": "PNLYD"
  },
  "kernelspec": {
   "display_name": "Python 3",
   "language": "python",
   "name": "python3"
  },
  "language_info": {
   "codemirror_mode": {
    "name": "ipython",
    "version": 3
   },
   "file_extension": ".py",
   "mimetype": "text/x-python",
   "name": "python",
   "nbconvert_exporter": "python",
   "pygments_lexer": "ipython3",
   "version": "3.7.7"
  }
 },
 "nbformat": 4,
 "nbformat_minor": 1
}
